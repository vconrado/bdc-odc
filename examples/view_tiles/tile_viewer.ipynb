{
 "cells": [
  {
   "cell_type": "markdown",
   "metadata": {},
   "source": [
    "# Tile Viewer\n",
    "\n",
    "This document presents a utility that makes it possible to view the BDC tiles that are registered in the ODC.\n",
    "\n",
    "> To see all the available products, see the [BDC-Portal](http://brazildatacube.dpi.inpe.br/portal/explore) and [BDC-STAC](http://brazildatacube.dpi.inpe.br/bdc-stac/0.8.0/)."
   ]
  },
  {
   "cell_type": "code",
   "execution_count": 1,
   "metadata": {},
   "outputs": [],
   "source": [
    "import datacube\n",
    "from datacube.api.core import get_bounds\n",
    "\n",
    "import pyproj\n",
    "import shapely\n",
    "from osgeo import osr\n",
    "from shapely import wkt\n",
    "from functools import partial\n",
    "from shapely.ops import transform\n",
    "\n",
    "import numpy as np\n",
    "import pandas as pd\n",
    "import geopandas as gpd\n",
    "\n",
    "import matplotlib\n",
    "import matplotlib.pyplot as plt\n",
    "\n",
    "# Configs\n",
    "import warnings\n",
    "warnings.filterwarnings('ignore')\n",
    "pd.set_option('display.max_rows', 10)\n",
    "\n",
    "%matplotlib inline"
   ]
  },
  {
   "cell_type": "markdown",
   "metadata": {},
   "source": [
    "### BDC CBERS Tiles\n",
    "\n",
    "This section presents the CBERS tiles that were registered at the time this example was made.\n"
   ]
  },
  {
   "cell_type": "code",
   "execution_count": null,
   "metadata": {},
   "outputs": [],
   "source": [
    "dc = datacube.Datacube(app='datacube')\n",
    "datasets = dc.find_datasets(product = \"CB4_64_16D_STK_v1\")"
   ]
  },
  {
   "cell_type": "code",
   "execution_count": 5,
   "metadata": {},
   "outputs": [
    {
     "data": {
      "application/vnd.jupyter.widget-view+json": {
       "model_id": "93383cda63934c71a3471570c7508a4f",
       "version_major": 2,
       "version_minor": 0
      },
      "text/plain": [
       "Map(center=[-10.967901383824895, -51.143812965446976], controls=(ZoomControl(options=['position', 'zoom_in_tex…"
      ]
     },
     "metadata": {},
     "output_type": "display_data"
    }
   ],
   "source": [
    "from bdc_utils import bdc_plot_datasets\n",
    "bdc_plot_datasets(datasets, zoom = 4)"
   ]
  },
  {
   "cell_type": "markdown",
   "metadata": {},
   "source": [
    "### LC8 Tiles\n",
    "\n",
    "This section presents the Landsat tiles that were registered at the time this example was made\n"
   ]
  },
  {
   "cell_type": "code",
   "execution_count": 6,
   "metadata": {},
   "outputs": [],
   "source": [
    "datasets = dc.find_datasets(product = 'ls8_level1_usgs')"
   ]
  },
  {
   "cell_type": "code",
   "execution_count": 8,
   "metadata": {},
   "outputs": [
    {
     "data": {
      "application/vnd.jupyter.widget-view+json": {
       "model_id": "ac452d456a40401e9b9578d7e57b9936",
       "version_major": 2,
       "version_minor": 0
      },
      "text/plain": [
       "Map(center=[-10.122985325259519, -46.65764903011714], controls=(ZoomControl(options=['position', 'zoom_in_text…"
      ]
     },
     "metadata": {},
     "output_type": "display_data"
    }
   ],
   "source": [
    "from bdc_utils import bdc_plot_datasets\n",
    "bdc_plot_datasets(datasets, zoom = 4)"
   ]
  },
  {
   "cell_type": "markdown",
   "metadata": {},
   "source": [
    "> This second example is interesting because several tiles are spaced in time in the same region."
   ]
  }
 ],
 "metadata": {
  "kernelspec": {
   "display_name": "Python 3",
   "language": "python",
   "name": "python3"
  },
  "language_info": {
   "codemirror_mode": {
    "name": "ipython",
    "version": 3
   },
   "file_extension": ".py",
   "mimetype": "text/x-python",
   "name": "python",
   "nbconvert_exporter": "python",
   "pygments_lexer": "ipython3",
   "version": "3.8.5"
  }
 },
 "nbformat": 4,
 "nbformat_minor": 4
}
